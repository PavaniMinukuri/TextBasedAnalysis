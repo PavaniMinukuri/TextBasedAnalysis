{
 "cells": [
  {
   "cell_type": "markdown",
   "id": "83aac07f",
   "metadata": {},
   "source": [
    "# Strings"
   ]
  },
  {
   "cell_type": "markdown",
   "id": "33e3b47d",
   "metadata": {},
   "source": [
    "In python strings can be represented in a single or double quotes and its datatype is character"
   ]
  },
  {
   "cell_type": "code",
   "execution_count": 9,
   "id": "7e4c69ea",
   "metadata": {},
   "outputs": [
    {
     "data": {
      "text/plain": [
       "str"
      ]
     },
     "execution_count": 9,
     "metadata": {},
     "output_type": "execute_result"
    }
   ],
   "source": [
    "example1= 'My name is Pavani'\n",
    "example2= \"Text Based Analysis\"\n",
    "type(example1)\n",
    "type(example2)\n"
   ]
  },
  {
   "cell_type": "markdown",
   "id": "e796ed11",
   "metadata": {},
   "source": [
    "# String indexing"
   ]
  },
  {
   "cell_type": "markdown",
   "id": "b4bdaf8e",
   "metadata": {},
   "source": [
    "String indexing start from 0 and to access the elements in the string, can use string indexing method"
   ]
  },
  {
   "cell_type": "code",
   "execution_count": 12,
   "id": "4f6d20ec",
   "metadata": {},
   "outputs": [
    {
     "data": {
      "text/plain": [
       "'Pavani'"
      ]
     },
     "execution_count": 12,
     "metadata": {},
     "output_type": "execute_result"
    }
   ],
   "source": [
    "example1= 'my name is Pavani'\n",
    "example1[11:]"
   ]
  },
  {
   "cell_type": "markdown",
   "id": "0251b156",
   "metadata": {},
   "source": [
    "# More string functions:"
   ]
  },
  {
   "cell_type": "code",
   "execution_count": 13,
   "id": "f655d3d2",
   "metadata": {},
   "outputs": [
    {
     "name": "stdout",
     "output_type": "stream",
     "text": [
      "hello\n"
     ]
    }
   ],
   "source": [
    "# Removing the spacing which are in right and left of the string.\n",
    "s = \"  hello  \"\n",
    "print(s.strip())  \n"
   ]
  },
  {
   "cell_type": "code",
   "execution_count": 14,
   "id": "a00657ce",
   "metadata": {},
   "outputs": [
    {
     "name": "stdout",
     "output_type": "stream",
     "text": [
      "apple,banana,orange\n"
     ]
    }
   ],
   "source": [
    "# join(): Joins the elements of a list into a single string using a specified delimiter.\n",
    "fruits = ['apple', 'banana', 'orange']\n",
    "print(\",\".join(fruits)) \n"
   ]
  },
  {
   "cell_type": "code",
   "execution_count": 15,
   "id": "91edbb44",
   "metadata": {},
   "outputs": [
    {
     "name": "stdout",
     "output_type": "stream",
     "text": [
      "Hello world\n"
     ]
    }
   ],
   "source": [
    "#capitalize(): Converts the first character of a string to uppercase and the rest to lowercase.\n",
    "s = \"hello world\"\n",
    "print(s.capitalize())  \n"
   ]
  },
  {
   "cell_type": "code",
   "execution_count": 16,
   "id": "07b450d5",
   "metadata": {},
   "outputs": [
    {
     "name": "stdout",
     "output_type": "stream",
     "text": [
      "Hello World\n"
     ]
    }
   ],
   "source": [
    "# title(): Converts the first character of each word in a string to uppercase.\n",
    "s = \"hello world\"\n",
    "print(s.title())  \n"
   ]
  },
  {
   "cell_type": "code",
   "execution_count": 17,
   "id": "cbe446da",
   "metadata": {},
   "outputs": [
    {
     "name": "stdout",
     "output_type": "stream",
     "text": [
      "3\n"
     ]
    }
   ],
   "source": [
    "# count(): Counts the occurrences of a substring within a string.\n",
    "s = \"hello hello hello\"\n",
    "print(s.count(\"hello\")) \n"
   ]
  },
  {
   "cell_type": "code",
   "execution_count": 18,
   "id": "23447dc7",
   "metadata": {},
   "outputs": [
    {
     "name": "stdout",
     "output_type": "stream",
     "text": [
      "True\n"
     ]
    }
   ],
   "source": [
    "# isspace(): Checks if all characters in a string are whitespaces.\n",
    "s = \"    \"\n",
    "print(s.isspace()) "
   ]
  },
  {
   "cell_type": "code",
   "execution_count": 19,
   "id": "5e83bb57",
   "metadata": {},
   "outputs": [
    {
     "name": "stdout",
     "output_type": "stream",
     "text": [
      "My name is Pavani and I am 22 years old.\n"
     ]
    }
   ],
   "source": [
    "name = 'Pavani'\n",
    "age = 22\n",
    "message = f\"My name is {name} and I am {age} years old.\"\n",
    "print(message) \n"
   ]
  },
  {
   "cell_type": "code",
   "execution_count": 20,
   "id": "8dbedb9e",
   "metadata": {},
   "outputs": [
    {
     "name": "stdout",
     "output_type": "stream",
     "text": [
      "World\n"
     ]
    }
   ],
   "source": [
    "# Extracts characters from index 7 to 11\n",
    "s = \"Hello, World!\"\n",
    "substring = s[7:12]  \n",
    "print(substring)  \n"
   ]
  },
  {
   "cell_type": "code",
   "execution_count": 28,
   "id": "c443dbf6",
   "metadata": {},
   "outputs": [
    {
     "name": "stdout",
     "output_type": "stream",
     "text": [
      "6\n"
     ]
    }
   ],
   "source": [
    "# to know the index of the element in the string\n",
    "s = \"hello world\"\n",
    "print(s.index(\"world\")) \n"
   ]
  },
  {
   "cell_type": "code",
   "execution_count": 29,
   "id": "021b3dbb",
   "metadata": {},
   "outputs": [
    {
     "name": "stdout",
     "output_type": "stream",
     "text": [
      "12\n"
     ]
    }
   ],
   "source": [
    "# Returns the highest index of the substring inside the string. Raises a ValueError if the substring is not found.\n",
    "s = \"hello world hello\"\n",
    "print(s.rindex(\"hello\")) \n"
   ]
  },
  {
   "cell_type": "code",
   "execution_count": 30,
   "id": "1fb8f8bb",
   "metadata": {},
   "outputs": [
    {
     "name": "stdout",
     "output_type": "stream",
     "text": [
      "hELLO wORLD\n"
     ]
    }
   ],
   "source": [
    "# Swaps the case of all characters in the string.\n",
    "s = \"Hello World\"\n",
    "print(s.swapcase())  \n"
   ]
  },
  {
   "cell_type": "code",
   "execution_count": 21,
   "id": "672cfc32",
   "metadata": {},
   "outputs": [
    {
     "name": "stdout",
     "output_type": "stream",
     "text": [
      "olleH\n"
     ]
    }
   ],
   "source": [
    "# Reversing: Reversing a string.\n",
    "s = \"Hello\"\n",
    "reversed_string = s[::-1]\n",
    "print(reversed_string)  \n"
   ]
  },
  {
   "cell_type": "code",
   "execution_count": 22,
   "id": "ef14ed1a",
   "metadata": {},
   "outputs": [
    {
     "name": "stdout",
     "output_type": "stream",
     "text": [
      "Substring found\n"
     ]
    }
   ],
   "source": [
    "s = 'Hello, World'\n",
    "if 'World' in s:\n",
    "    print('Substring found')\n"
   ]
  },
  {
   "cell_type": "code",
   "execution_count": 51,
   "id": "8bb92662",
   "metadata": {},
   "outputs": [
    {
     "name": "stdout",
     "output_type": "stream",
     "text": [
      "('hello', ' ', 'world')\n",
      "a: hello\n",
      "b: @\n",
      "c: world.com\n"
     ]
    }
   ],
   "source": [
    "# Splits a string into three parts based on a separator, returning a tuple containing the part before the separator, the separator itself, and the part after the separator.\n",
    "s = \"hello world\"\n",
    "print(s.partition(\" \")) \n",
    "s = 'hello@world.com'\n",
    "a,b,c = s.partition('@')\n",
    "print(\"a:\", a)  \n",
    "print(\"b:\", b)  \n",
    "print(\"c:\", c)  \n"
   ]
  },
  {
   "cell_type": "code",
   "execution_count": 33,
   "id": "656bcd5e",
   "metadata": {},
   "outputs": [
    {
     "name": "stdout",
     "output_type": "stream",
     "text": [
      "('hello hello world', ' ', 'hello')\n"
     ]
    }
   ],
   "source": [
    "#  Similar to partition() but searches from the right for the separator.\n",
    "s = \"hello hello world hello\"\n",
    "print(s.rpartition(\" \"))  \n"
   ]
  },
  {
   "cell_type": "code",
   "execution_count": 34,
   "id": "bcf28449",
   "metadata": {},
   "outputs": [
    {
     "name": "stdout",
     "output_type": "stream",
     "text": [
      "00042\n"
     ]
    }
   ],
   "source": [
    "# Pads a numeric string with zeros on the left to make it a specified width.\n",
    "s = \"42\"\n",
    "print(s.zfill(5))  \n"
   ]
  },
  {
   "cell_type": "code",
   "execution_count": 35,
   "id": "500ff4d4",
   "metadata": {},
   "outputs": [
    {
     "name": "stdout",
     "output_type": "stream",
     "text": [
      "**hello***\n"
     ]
    }
   ],
   "source": [
    "# Centers a string within a specified width, padding with a specified character (defaults to space).\n",
    "s = \"hello\"\n",
    "print(s.center(10, \"*\")) \n"
   ]
  },
  {
   "cell_type": "code",
   "execution_count": null,
   "id": "380a90be",
   "metadata": {},
   "outputs": [],
   "source": [
    "# Left-justifies or right-justifies a string within a specified width, padding with a specified character (defaults to space).\n",
    "s = \"hello\"\n",
    "print(s.ljust(10, \"*\"))  \n",
    "print(s.rjust(10, \"*\")) \n"
   ]
  },
  {
   "cell_type": "code",
   "execution_count": 27,
   "id": "29bf42d6",
   "metadata": {},
   "outputs": [
    {
     "name": "stdout",
     "output_type": "stream",
     "text": [
      "Hello-----\n"
     ]
    }
   ],
   "source": [
    "# Left-justify with padding \"-\"\n",
    "s = \"Hello\"\n",
    "padded_string = s.ljust(10, \"-\")  \n",
    "print(padded_string)  \n"
   ]
  },
  {
   "cell_type": "markdown",
   "id": "75f1879d",
   "metadata": {},
   "source": [
    "# Regular Expression"
   ]
  },
  {
   "cell_type": "code",
   "execution_count": 36,
   "id": "6414b19d",
   "metadata": {},
   "outputs": [
    {
     "name": "stdout",
     "output_type": "stream",
     "text": [
      "Pattern found in the text!\n"
     ]
    }
   ],
   "source": [
    "import re\n",
    "\n",
    "# Define a simple pattern\n",
    "pattern = r'hello'\n",
    "\n",
    "# Define a string to search\n",
    "text = 'hello world'\n",
    "\n",
    "# Use re.search() to find the first occurrence of the pattern in the string\n",
    "match = re.search(pattern, text)\n",
    "\n",
    "if match:\n",
    "    print('Pattern found in the text!')\n",
    "else:\n",
    "    print('Pattern not found in the text.')\n"
   ]
  },
  {
   "cell_type": "code",
   "execution_count": 37,
   "id": "7b63bbfa",
   "metadata": {},
   "outputs": [
    {
     "data": {
      "text/plain": [
       "['3', '5']"
      ]
     },
     "execution_count": 37,
     "metadata": {},
     "output_type": "execute_result"
    }
   ],
   "source": [
    "# Matching a Pattern Multiple Times with findall().\n",
    "\n",
    "# Define a pattern to match digits\n",
    "pattern = r'\\d+'\n",
    "\n",
    "# Define a string containing numbers\n",
    "text = 'I have 3 apples and 5 oranges.'\n",
    "\n",
    "# Use re.findall() to find all occurrences of the pattern in the string\n",
    "matches = re.findall(pattern, text)\n",
    "\n",
    "matches \n"
   ]
  },
  {
   "cell_type": "code",
   "execution_count": 44,
   "id": "325e07da",
   "metadata": {},
   "outputs": [
    {
     "data": {
      "text/plain": [
       "['', ', ', '! ', ' ', ' ', '?']"
      ]
     },
     "execution_count": 44,
     "metadata": {},
     "output_type": "execute_result"
    }
   ],
   "source": [
    "# Define a pattern to split on non-alphanumeric characters\n",
    "pattern = r'\\w+'\n",
    "\n",
    "# Define a string to split\n",
    "text = 'Hello, World! How7 are you?'\n",
    "\n",
    "# Use re.split() to split the string based on the pattern\n",
    "parts = re.split(pattern, text)\n",
    "\n",
    "parts \n"
   ]
  },
  {
   "cell_type": "code",
   "execution_count": 45,
   "id": "697ef66b",
   "metadata": {},
   "outputs": [
    {
     "data": {
      "text/plain": [
       "['Hello', 'World', 'How7', 'are', 'you', '']"
      ]
     },
     "execution_count": 45,
     "metadata": {},
     "output_type": "execute_result"
    }
   ],
   "source": [
    "# Define a pattern to split on alphanumeric characters\n",
    "pattern = r'\\W+'\n",
    "\n",
    "# Define a string to split\n",
    "text = 'Hello, World! How7 are you?'\n",
    "\n",
    "# Use re.split() to split the string based on the pattern\n",
    "parts = re.split(pattern, text)\n",
    "\n",
    "parts "
   ]
  },
  {
   "cell_type": "code",
   "execution_count": 47,
   "id": "b3633292",
   "metadata": {},
   "outputs": [
    {
     "name": "stdout",
     "output_type": "stream",
     "text": [
      "I have 10 apples and 10 oranges.\n"
     ]
    }
   ],
   "source": [
    "# Replacing Patterns with sub()\n",
    "\n",
    "# Define a pattern to replace digits with 'X'\n",
    "pattern = r'\\d'\n",
    "\n",
    "# Define a string containing numbers\n",
    "text = 'I have 3 apples and 5 oranges.'\n",
    "\n",
    "# Use re.sub() to replace digits with '10'\n",
    "result = re.sub(pattern, '10', text)\n",
    "\n",
    "result\n"
   ]
  },
  {
   "cell_type": "code",
   "execution_count": 49,
   "id": "2ab5328b",
   "metadata": {},
   "outputs": [
    {
     "name": "stdout",
     "output_type": "stream",
     "text": [
      "Pattern found at the beginning of the text!\n"
     ]
    }
   ],
   "source": [
    "# Attempts to match the pattern at the beginning of the string and returns a match object if successful. If not found at the beginning of the string, returns\n",
    "\n",
    "pattern = r'Hello'\n",
    "text = 'Hello, world!'\n",
    "\n",
    "match = re.match(pattern, text)\n",
    "\n",
    "if match:\n",
    "    print('Pattern found at the beginning of the text!')\n",
    "else:\n",
    "    print('Pattern not found at the beginning of the text.')\n",
    "\n"
   ]
  },
  {
   "cell_type": "code",
   "execution_count": 50,
   "id": "e6d4e01f",
   "metadata": {},
   "outputs": [
    {
     "name": "stdout",
     "output_type": "stream",
     "text": [
      "3\n",
      "5\n"
     ]
    }
   ],
   "source": [
    "# Finds all occurrences of a pattern in a string and returns an iterator yielding match objects for each match.\n",
    "\n",
    "pattern = r'\\d+'\n",
    "text = 'I have 3 apples and 5 oranges.'\n",
    "\n",
    "match_iterator = re.finditer(pattern, text)\n",
    "\n",
    "for match in match_iterator:\n",
    "    print(match.group()) \n"
   ]
  },
  {
   "cell_type": "code",
   "execution_count": null,
   "id": "bcbdc1b9",
   "metadata": {},
   "outputs": [],
   "source": []
  },
  {
   "cell_type": "code",
   "execution_count": null,
   "id": "2be9331d",
   "metadata": {},
   "outputs": [],
   "source": []
  },
  {
   "cell_type": "code",
   "execution_count": null,
   "id": "a8b097f5",
   "metadata": {},
   "outputs": [],
   "source": []
  }
 ],
 "metadata": {
  "kernelspec": {
   "display_name": "Python 3 (ipykernel)",
   "language": "python",
   "name": "python3"
  },
  "language_info": {
   "codemirror_mode": {
    "name": "ipython",
    "version": 3
   },
   "file_extension": ".py",
   "mimetype": "text/x-python",
   "name": "python",
   "nbconvert_exporter": "python",
   "pygments_lexer": "ipython3",
   "version": "3.11.5"
  }
 },
 "nbformat": 4,
 "nbformat_minor": 5
}
